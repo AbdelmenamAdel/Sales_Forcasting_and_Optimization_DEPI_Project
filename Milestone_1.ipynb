{
 "cells": [
  {
   "cell_type": "markdown",
   "id": "fde2efbb",
   "metadata": {},
   "source": [
    "#### Let's Do it!       ---------- بسم الله الرحمن الرحيم ----------"
   ]
  },
  {
   "cell_type": "code",
   "execution_count": null,
   "id": "da5b3871",
   "metadata": {},
   "outputs": [],
   "source": [
    "\n"
   ]
  }
 ],
 "metadata": {
  "language_info": {
   "name": "python"
  }
 },
 "nbformat": 4,
 "nbformat_minor": 5
}
